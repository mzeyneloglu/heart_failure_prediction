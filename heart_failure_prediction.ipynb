{
 "cells": [
  {
   "cell_type": "markdown",
   "id": "14d650c9-fa52-4db0-a9c5-5ff423c12269",
   "metadata": {},
   "source": [
    "### ***Heart Failure Prediction***"
   ]
  },
  {
   "cell_type": "markdown",
   "id": "13fc1099-263b-4df0-99cd-fe2c364658d4",
   "metadata": {},
   "source": [
    "*According to the Heart Failure data set from the Kaggle, we're going to predict heart failure with variables.*"
   ]
  },
  {
   "cell_type": "code",
   "execution_count": 1,
   "id": "c350ca75-45f4-41b6-a7f9-8f21b068a4e0",
   "metadata": {},
   "outputs": [],
   "source": [
    "import pandas as pd\n",
    "df  = pd.read_csv(\"heart_failure_clinical_records_dataset.csv\")\n",
    "dataset = df.copy()"
   ]
  },
  {
   "cell_type": "code",
   "execution_count": 2,
   "id": "d9792d10-6d1e-4937-b83d-f12d46e19744",
   "metadata": {},
   "outputs": [
    {
     "data": {
      "text/html": [
       "<div>\n",
       "<style scoped>\n",
       "    .dataframe tbody tr th:only-of-type {\n",
       "        vertical-align: middle;\n",
       "    }\n",
       "\n",
       "    .dataframe tbody tr th {\n",
       "        vertical-align: top;\n",
       "    }\n",
       "\n",
       "    .dataframe thead th {\n",
       "        text-align: right;\n",
       "    }\n",
       "</style>\n",
       "<table border=\"1\" class=\"dataframe\">\n",
       "  <thead>\n",
       "    <tr style=\"text-align: right;\">\n",
       "      <th></th>\n",
       "      <th>age</th>\n",
       "      <th>anaemia</th>\n",
       "      <th>creatinine_phosphokinase</th>\n",
       "      <th>diabetes</th>\n",
       "      <th>ejection_fraction</th>\n",
       "      <th>high_blood_pressure</th>\n",
       "      <th>platelets</th>\n",
       "      <th>serum_creatinine</th>\n",
       "      <th>serum_sodium</th>\n",
       "      <th>sex</th>\n",
       "      <th>smoking</th>\n",
       "      <th>time</th>\n",
       "      <th>DEATH_EVENT</th>\n",
       "    </tr>\n",
       "  </thead>\n",
       "  <tbody>\n",
       "    <tr>\n",
       "      <th>0</th>\n",
       "      <td>75.0</td>\n",
       "      <td>0</td>\n",
       "      <td>582</td>\n",
       "      <td>0</td>\n",
       "      <td>20</td>\n",
       "      <td>1</td>\n",
       "      <td>265000.00</td>\n",
       "      <td>1.9</td>\n",
       "      <td>130</td>\n",
       "      <td>1</td>\n",
       "      <td>0</td>\n",
       "      <td>4</td>\n",
       "      <td>1</td>\n",
       "    </tr>\n",
       "    <tr>\n",
       "      <th>1</th>\n",
       "      <td>55.0</td>\n",
       "      <td>0</td>\n",
       "      <td>7861</td>\n",
       "      <td>0</td>\n",
       "      <td>38</td>\n",
       "      <td>0</td>\n",
       "      <td>263358.03</td>\n",
       "      <td>1.1</td>\n",
       "      <td>136</td>\n",
       "      <td>1</td>\n",
       "      <td>0</td>\n",
       "      <td>6</td>\n",
       "      <td>1</td>\n",
       "    </tr>\n",
       "    <tr>\n",
       "      <th>2</th>\n",
       "      <td>65.0</td>\n",
       "      <td>0</td>\n",
       "      <td>146</td>\n",
       "      <td>0</td>\n",
       "      <td>20</td>\n",
       "      <td>0</td>\n",
       "      <td>162000.00</td>\n",
       "      <td>1.3</td>\n",
       "      <td>129</td>\n",
       "      <td>1</td>\n",
       "      <td>1</td>\n",
       "      <td>7</td>\n",
       "      <td>1</td>\n",
       "    </tr>\n",
       "    <tr>\n",
       "      <th>3</th>\n",
       "      <td>50.0</td>\n",
       "      <td>1</td>\n",
       "      <td>111</td>\n",
       "      <td>0</td>\n",
       "      <td>20</td>\n",
       "      <td>0</td>\n",
       "      <td>210000.00</td>\n",
       "      <td>1.9</td>\n",
       "      <td>137</td>\n",
       "      <td>1</td>\n",
       "      <td>0</td>\n",
       "      <td>7</td>\n",
       "      <td>1</td>\n",
       "    </tr>\n",
       "    <tr>\n",
       "      <th>4</th>\n",
       "      <td>65.0</td>\n",
       "      <td>1</td>\n",
       "      <td>160</td>\n",
       "      <td>1</td>\n",
       "      <td>20</td>\n",
       "      <td>0</td>\n",
       "      <td>327000.00</td>\n",
       "      <td>2.7</td>\n",
       "      <td>116</td>\n",
       "      <td>0</td>\n",
       "      <td>0</td>\n",
       "      <td>8</td>\n",
       "      <td>1</td>\n",
       "    </tr>\n",
       "  </tbody>\n",
       "</table>\n",
       "</div>"
      ],
      "text/plain": [
       "    age  anaemia  creatinine_phosphokinase  diabetes  ejection_fraction  \\\n",
       "0  75.0        0                       582         0                 20   \n",
       "1  55.0        0                      7861         0                 38   \n",
       "2  65.0        0                       146         0                 20   \n",
       "3  50.0        1                       111         0                 20   \n",
       "4  65.0        1                       160         1                 20   \n",
       "\n",
       "   high_blood_pressure  platelets  serum_creatinine  serum_sodium  sex  \\\n",
       "0                    1  265000.00               1.9           130    1   \n",
       "1                    0  263358.03               1.1           136    1   \n",
       "2                    0  162000.00               1.3           129    1   \n",
       "3                    0  210000.00               1.9           137    1   \n",
       "4                    0  327000.00               2.7           116    0   \n",
       "\n",
       "   smoking  time  DEATH_EVENT  \n",
       "0        0     4            1  \n",
       "1        0     6            1  \n",
       "2        1     7            1  \n",
       "3        0     7            1  \n",
       "4        0     8            1  "
      ]
     },
     "execution_count": 2,
     "metadata": {},
     "output_type": "execute_result"
    }
   ],
   "source": [
    "# Data\n",
    "dataset.head()"
   ]
  },
  {
   "cell_type": "code",
   "execution_count": 3,
   "id": "34809c5b-d6df-43d3-9bb4-7a528c85b198",
   "metadata": {},
   "outputs": [
    {
     "data": {
      "text/plain": [
       "['age',\n",
       " 'anaemia',\n",
       " 'creatinine_phosphokinase',\n",
       " 'diabetes',\n",
       " 'ejection_fraction',\n",
       " 'high_blood_pressure',\n",
       " 'platelets',\n",
       " 'serum_creatinine',\n",
       " 'serum_sodium',\n",
       " 'sex',\n",
       " 'smoking',\n",
       " 'time',\n",
       " 'DEATH_EVENT']"
      ]
     },
     "execution_count": 3,
     "metadata": {},
     "output_type": "execute_result"
    }
   ],
   "source": [
    "# Data Columns\n",
    "list(dataset.columns)"
   ]
  },
  {
   "cell_type": "markdown",
   "id": "f0cfab75-7d5b-4815-8660-eb487ddf6ee8",
   "metadata": {},
   "source": [
    "*İlk olarak DEATH_EVENT degiskeninin adını degistirmek istiyorum.Bütün değişkenlerin küçük harfle yazılmış olması daha uygundur.*"
   ]
  },
  {
   "cell_type": "code",
   "execution_count": 4,
   "id": "17a875d1-226f-4525-909d-64204721ca3d",
   "metadata": {},
   "outputs": [
    {
     "data": {
      "text/plain": [
       "['age',\n",
       " 'anaemia',\n",
       " 'creatinine_phosphokinase',\n",
       " 'diabetes',\n",
       " 'ejection_fraction',\n",
       " 'high_blood_pressure',\n",
       " 'platelets',\n",
       " 'serum_creatinine',\n",
       " 'serum_sodium',\n",
       " 'sex',\n",
       " 'smoking',\n",
       " 'time',\n",
       " 'death_event']"
      ]
     },
     "execution_count": 4,
     "metadata": {},
     "output_type": "execute_result"
    }
   ],
   "source": [
    "# pd.DataFrame.rename(columns = {\"DEATH,EVENT\" : \"death_event\"});\n",
    "dataset = dataset.rename(columns={\"DEATH_EVENT\": \"death_event\"})\n",
    "list(dataset.columns)"
   ]
  },
  {
   "cell_type": "markdown",
   "id": "6f100ad9-a58e-4b95-b51e-82d0e1489829",
   "metadata": {},
   "source": [
    "*Veri setimde ikinci olarak yapmak istediğim şey istatiksel sonuçlarına bakmak olucaktır.Yani veri setini tanımaya çalışıyorum.*"
   ]
  },
  {
   "cell_type": "code",
   "execution_count": 5,
   "id": "9088e52b-febc-4f5b-b60d-e18fc3f26742",
   "metadata": {},
   "outputs": [
    {
     "name": "stdout",
     "output_type": "stream",
     "text": [
      "<class 'pandas.core.frame.DataFrame'>\n",
      "RangeIndex: 299 entries, 0 to 298\n",
      "Data columns (total 13 columns):\n",
      " #   Column                    Non-Null Count  Dtype  \n",
      "---  ------                    --------------  -----  \n",
      " 0   age                       299 non-null    float64\n",
      " 1   anaemia                   299 non-null    int64  \n",
      " 2   creatinine_phosphokinase  299 non-null    int64  \n",
      " 3   diabetes                  299 non-null    int64  \n",
      " 4   ejection_fraction         299 non-null    int64  \n",
      " 5   high_blood_pressure       299 non-null    int64  \n",
      " 6   platelets                 299 non-null    float64\n",
      " 7   serum_creatinine          299 non-null    float64\n",
      " 8   serum_sodium              299 non-null    int64  \n",
      " 9   sex                       299 non-null    int64  \n",
      " 10  smoking                   299 non-null    int64  \n",
      " 11  time                      299 non-null    int64  \n",
      " 12  death_event               299 non-null    int64  \n",
      "dtypes: float64(3), int64(10)\n",
      "memory usage: 30.5 KB\n"
     ]
    }
   ],
   "source": [
    "# Info\n",
    "dataset.info()"
   ]
  },
  {
   "cell_type": "code",
   "execution_count": 6,
   "id": "1f65fb5a-63c0-4ecf-abe1-ae194927f3a2",
   "metadata": {},
   "outputs": [
    {
     "data": {
      "text/html": [
       "<div>\n",
       "<style scoped>\n",
       "    .dataframe tbody tr th:only-of-type {\n",
       "        vertical-align: middle;\n",
       "    }\n",
       "\n",
       "    .dataframe tbody tr th {\n",
       "        vertical-align: top;\n",
       "    }\n",
       "\n",
       "    .dataframe thead th {\n",
       "        text-align: right;\n",
       "    }\n",
       "</style>\n",
       "<table border=\"1\" class=\"dataframe\">\n",
       "  <thead>\n",
       "    <tr style=\"text-align: right;\">\n",
       "      <th></th>\n",
       "      <th>count</th>\n",
       "      <th>mean</th>\n",
       "      <th>std</th>\n",
       "      <th>min</th>\n",
       "      <th>25%</th>\n",
       "      <th>50%</th>\n",
       "      <th>75%</th>\n",
       "      <th>max</th>\n",
       "    </tr>\n",
       "  </thead>\n",
       "  <tbody>\n",
       "    <tr>\n",
       "      <th>age</th>\n",
       "      <td>299.0</td>\n",
       "      <td>60.833893</td>\n",
       "      <td>11.894809</td>\n",
       "      <td>40.0</td>\n",
       "      <td>51.0</td>\n",
       "      <td>60.0</td>\n",
       "      <td>70.0</td>\n",
       "      <td>95.0</td>\n",
       "    </tr>\n",
       "    <tr>\n",
       "      <th>anaemia</th>\n",
       "      <td>299.0</td>\n",
       "      <td>0.431438</td>\n",
       "      <td>0.496107</td>\n",
       "      <td>0.0</td>\n",
       "      <td>0.0</td>\n",
       "      <td>0.0</td>\n",
       "      <td>1.0</td>\n",
       "      <td>1.0</td>\n",
       "    </tr>\n",
       "    <tr>\n",
       "      <th>creatinine_phosphokinase</th>\n",
       "      <td>299.0</td>\n",
       "      <td>581.839465</td>\n",
       "      <td>970.287881</td>\n",
       "      <td>23.0</td>\n",
       "      <td>116.5</td>\n",
       "      <td>250.0</td>\n",
       "      <td>582.0</td>\n",
       "      <td>7861.0</td>\n",
       "    </tr>\n",
       "    <tr>\n",
       "      <th>diabetes</th>\n",
       "      <td>299.0</td>\n",
       "      <td>0.418060</td>\n",
       "      <td>0.494067</td>\n",
       "      <td>0.0</td>\n",
       "      <td>0.0</td>\n",
       "      <td>0.0</td>\n",
       "      <td>1.0</td>\n",
       "      <td>1.0</td>\n",
       "    </tr>\n",
       "    <tr>\n",
       "      <th>ejection_fraction</th>\n",
       "      <td>299.0</td>\n",
       "      <td>38.083612</td>\n",
       "      <td>11.834841</td>\n",
       "      <td>14.0</td>\n",
       "      <td>30.0</td>\n",
       "      <td>38.0</td>\n",
       "      <td>45.0</td>\n",
       "      <td>80.0</td>\n",
       "    </tr>\n",
       "    <tr>\n",
       "      <th>high_blood_pressure</th>\n",
       "      <td>299.0</td>\n",
       "      <td>0.351171</td>\n",
       "      <td>0.478136</td>\n",
       "      <td>0.0</td>\n",
       "      <td>0.0</td>\n",
       "      <td>0.0</td>\n",
       "      <td>1.0</td>\n",
       "      <td>1.0</td>\n",
       "    </tr>\n",
       "    <tr>\n",
       "      <th>platelets</th>\n",
       "      <td>299.0</td>\n",
       "      <td>263358.029264</td>\n",
       "      <td>97804.236869</td>\n",
       "      <td>25100.0</td>\n",
       "      <td>212500.0</td>\n",
       "      <td>262000.0</td>\n",
       "      <td>303500.0</td>\n",
       "      <td>850000.0</td>\n",
       "    </tr>\n",
       "    <tr>\n",
       "      <th>serum_creatinine</th>\n",
       "      <td>299.0</td>\n",
       "      <td>1.393880</td>\n",
       "      <td>1.034510</td>\n",
       "      <td>0.5</td>\n",
       "      <td>0.9</td>\n",
       "      <td>1.1</td>\n",
       "      <td>1.4</td>\n",
       "      <td>9.4</td>\n",
       "    </tr>\n",
       "    <tr>\n",
       "      <th>serum_sodium</th>\n",
       "      <td>299.0</td>\n",
       "      <td>136.625418</td>\n",
       "      <td>4.412477</td>\n",
       "      <td>113.0</td>\n",
       "      <td>134.0</td>\n",
       "      <td>137.0</td>\n",
       "      <td>140.0</td>\n",
       "      <td>148.0</td>\n",
       "    </tr>\n",
       "    <tr>\n",
       "      <th>sex</th>\n",
       "      <td>299.0</td>\n",
       "      <td>0.648829</td>\n",
       "      <td>0.478136</td>\n",
       "      <td>0.0</td>\n",
       "      <td>0.0</td>\n",
       "      <td>1.0</td>\n",
       "      <td>1.0</td>\n",
       "      <td>1.0</td>\n",
       "    </tr>\n",
       "    <tr>\n",
       "      <th>smoking</th>\n",
       "      <td>299.0</td>\n",
       "      <td>0.321070</td>\n",
       "      <td>0.467670</td>\n",
       "      <td>0.0</td>\n",
       "      <td>0.0</td>\n",
       "      <td>0.0</td>\n",
       "      <td>1.0</td>\n",
       "      <td>1.0</td>\n",
       "    </tr>\n",
       "    <tr>\n",
       "      <th>time</th>\n",
       "      <td>299.0</td>\n",
       "      <td>130.260870</td>\n",
       "      <td>77.614208</td>\n",
       "      <td>4.0</td>\n",
       "      <td>73.0</td>\n",
       "      <td>115.0</td>\n",
       "      <td>203.0</td>\n",
       "      <td>285.0</td>\n",
       "    </tr>\n",
       "    <tr>\n",
       "      <th>death_event</th>\n",
       "      <td>299.0</td>\n",
       "      <td>0.321070</td>\n",
       "      <td>0.467670</td>\n",
       "      <td>0.0</td>\n",
       "      <td>0.0</td>\n",
       "      <td>0.0</td>\n",
       "      <td>1.0</td>\n",
       "      <td>1.0</td>\n",
       "    </tr>\n",
       "  </tbody>\n",
       "</table>\n",
       "</div>"
      ],
      "text/plain": [
       "                          count           mean           std      min  \\\n",
       "age                       299.0      60.833893     11.894809     40.0   \n",
       "anaemia                   299.0       0.431438      0.496107      0.0   \n",
       "creatinine_phosphokinase  299.0     581.839465    970.287881     23.0   \n",
       "diabetes                  299.0       0.418060      0.494067      0.0   \n",
       "ejection_fraction         299.0      38.083612     11.834841     14.0   \n",
       "high_blood_pressure       299.0       0.351171      0.478136      0.0   \n",
       "platelets                 299.0  263358.029264  97804.236869  25100.0   \n",
       "serum_creatinine          299.0       1.393880      1.034510      0.5   \n",
       "serum_sodium              299.0     136.625418      4.412477    113.0   \n",
       "sex                       299.0       0.648829      0.478136      0.0   \n",
       "smoking                   299.0       0.321070      0.467670      0.0   \n",
       "time                      299.0     130.260870     77.614208      4.0   \n",
       "death_event               299.0       0.321070      0.467670      0.0   \n",
       "\n",
       "                               25%       50%       75%       max  \n",
       "age                           51.0      60.0      70.0      95.0  \n",
       "anaemia                        0.0       0.0       1.0       1.0  \n",
       "creatinine_phosphokinase     116.5     250.0     582.0    7861.0  \n",
       "diabetes                       0.0       0.0       1.0       1.0  \n",
       "ejection_fraction             30.0      38.0      45.0      80.0  \n",
       "high_blood_pressure            0.0       0.0       1.0       1.0  \n",
       "platelets                 212500.0  262000.0  303500.0  850000.0  \n",
       "serum_creatinine               0.9       1.1       1.4       9.4  \n",
       "serum_sodium                 134.0     137.0     140.0     148.0  \n",
       "sex                            0.0       1.0       1.0       1.0  \n",
       "smoking                        0.0       0.0       1.0       1.0  \n",
       "time                          73.0     115.0     203.0     285.0  \n",
       "death_event                    0.0       0.0       1.0       1.0  "
      ]
     },
     "execution_count": 6,
     "metadata": {},
     "output_type": "execute_result"
    }
   ],
   "source": [
    "# Describe\n",
    "dataset.describe().T"
   ]
  },
  {
   "cell_type": "markdown",
   "id": "f684cd79-3ef7-4eab-af07-5f211c8c38cb",
   "metadata": {},
   "source": [
    "*Sayısal değişkenlerin istatiksel sonuçlarına göz attığımızda;*\n",
    "* *Ortalama yaş : 60 ve en genç kişimiz ise 40 yaşında ne yaşlımız 95 yaşındadır.*\n",
    "* *Veri setimizdeki insanların neredeyse %50'si diabetes , anaemia olduğu görülüyor.*\n",
    "\n",
    "*Değişkenlerimizin bağımlı değişkene oranları ne kadar etkili bunları görmek isteyebiliriz.*"
   ]
  },
  {
   "cell_type": "code",
   "execution_count": 7,
   "id": "1568cf18-f20a-4f25-9b15-38ba2e3e826a",
   "metadata": {},
   "outputs": [
    {
     "data": {
      "text/html": [
       "<div>\n",
       "<style scoped>\n",
       "    .dataframe tbody tr th:only-of-type {\n",
       "        vertical-align: middle;\n",
       "    }\n",
       "\n",
       "    .dataframe tbody tr th {\n",
       "        vertical-align: top;\n",
       "    }\n",
       "\n",
       "    .dataframe thead th {\n",
       "        text-align: right;\n",
       "    }\n",
       "</style>\n",
       "<table border=\"1\" class=\"dataframe\">\n",
       "  <thead>\n",
       "    <tr style=\"text-align: right;\">\n",
       "      <th></th>\n",
       "      <th>age</th>\n",
       "      <th>anaemia</th>\n",
       "      <th>creatinine_phosphokinase</th>\n",
       "      <th>diabetes</th>\n",
       "      <th>ejection_fraction</th>\n",
       "      <th>high_blood_pressure</th>\n",
       "      <th>platelets</th>\n",
       "      <th>serum_creatinine</th>\n",
       "      <th>serum_sodium</th>\n",
       "      <th>sex</th>\n",
       "      <th>smoking</th>\n",
       "      <th>time</th>\n",
       "      <th>death_event</th>\n",
       "    </tr>\n",
       "  </thead>\n",
       "  <tbody>\n",
       "    <tr>\n",
       "      <th>age</th>\n",
       "      <td>1.000000</td>\n",
       "      <td>0.088006</td>\n",
       "      <td>-0.081584</td>\n",
       "      <td>-0.101012</td>\n",
       "      <td>0.060098</td>\n",
       "      <td>0.093289</td>\n",
       "      <td>-0.052354</td>\n",
       "      <td>0.159187</td>\n",
       "      <td>-0.045966</td>\n",
       "      <td>0.065430</td>\n",
       "      <td>0.018668</td>\n",
       "      <td>-0.224068</td>\n",
       "      <td>0.253729</td>\n",
       "    </tr>\n",
       "    <tr>\n",
       "      <th>anaemia</th>\n",
       "      <td>0.088006</td>\n",
       "      <td>1.000000</td>\n",
       "      <td>-0.190741</td>\n",
       "      <td>-0.012729</td>\n",
       "      <td>0.031557</td>\n",
       "      <td>0.038182</td>\n",
       "      <td>-0.043786</td>\n",
       "      <td>0.052174</td>\n",
       "      <td>0.041882</td>\n",
       "      <td>-0.094769</td>\n",
       "      <td>-0.107290</td>\n",
       "      <td>-0.141414</td>\n",
       "      <td>0.066270</td>\n",
       "    </tr>\n",
       "    <tr>\n",
       "      <th>creatinine_phosphokinase</th>\n",
       "      <td>-0.081584</td>\n",
       "      <td>-0.190741</td>\n",
       "      <td>1.000000</td>\n",
       "      <td>-0.009639</td>\n",
       "      <td>-0.044080</td>\n",
       "      <td>-0.070590</td>\n",
       "      <td>0.024463</td>\n",
       "      <td>-0.016408</td>\n",
       "      <td>0.059550</td>\n",
       "      <td>0.079791</td>\n",
       "      <td>0.002421</td>\n",
       "      <td>-0.009346</td>\n",
       "      <td>0.062728</td>\n",
       "    </tr>\n",
       "    <tr>\n",
       "      <th>diabetes</th>\n",
       "      <td>-0.101012</td>\n",
       "      <td>-0.012729</td>\n",
       "      <td>-0.009639</td>\n",
       "      <td>1.000000</td>\n",
       "      <td>-0.004850</td>\n",
       "      <td>-0.012732</td>\n",
       "      <td>0.092193</td>\n",
       "      <td>-0.046975</td>\n",
       "      <td>-0.089551</td>\n",
       "      <td>-0.157730</td>\n",
       "      <td>-0.147173</td>\n",
       "      <td>0.033726</td>\n",
       "      <td>-0.001943</td>\n",
       "    </tr>\n",
       "    <tr>\n",
       "      <th>ejection_fraction</th>\n",
       "      <td>0.060098</td>\n",
       "      <td>0.031557</td>\n",
       "      <td>-0.044080</td>\n",
       "      <td>-0.004850</td>\n",
       "      <td>1.000000</td>\n",
       "      <td>0.024445</td>\n",
       "      <td>0.072177</td>\n",
       "      <td>-0.011302</td>\n",
       "      <td>0.175902</td>\n",
       "      <td>-0.148386</td>\n",
       "      <td>-0.067315</td>\n",
       "      <td>0.041729</td>\n",
       "      <td>-0.268603</td>\n",
       "    </tr>\n",
       "    <tr>\n",
       "      <th>high_blood_pressure</th>\n",
       "      <td>0.093289</td>\n",
       "      <td>0.038182</td>\n",
       "      <td>-0.070590</td>\n",
       "      <td>-0.012732</td>\n",
       "      <td>0.024445</td>\n",
       "      <td>1.000000</td>\n",
       "      <td>0.049963</td>\n",
       "      <td>-0.004935</td>\n",
       "      <td>0.037109</td>\n",
       "      <td>-0.104615</td>\n",
       "      <td>-0.055711</td>\n",
       "      <td>-0.196439</td>\n",
       "      <td>0.079351</td>\n",
       "    </tr>\n",
       "    <tr>\n",
       "      <th>platelets</th>\n",
       "      <td>-0.052354</td>\n",
       "      <td>-0.043786</td>\n",
       "      <td>0.024463</td>\n",
       "      <td>0.092193</td>\n",
       "      <td>0.072177</td>\n",
       "      <td>0.049963</td>\n",
       "      <td>1.000000</td>\n",
       "      <td>-0.041198</td>\n",
       "      <td>0.062125</td>\n",
       "      <td>-0.125120</td>\n",
       "      <td>0.028234</td>\n",
       "      <td>0.010514</td>\n",
       "      <td>-0.049139</td>\n",
       "    </tr>\n",
       "    <tr>\n",
       "      <th>serum_creatinine</th>\n",
       "      <td>0.159187</td>\n",
       "      <td>0.052174</td>\n",
       "      <td>-0.016408</td>\n",
       "      <td>-0.046975</td>\n",
       "      <td>-0.011302</td>\n",
       "      <td>-0.004935</td>\n",
       "      <td>-0.041198</td>\n",
       "      <td>1.000000</td>\n",
       "      <td>-0.189095</td>\n",
       "      <td>0.006970</td>\n",
       "      <td>-0.027414</td>\n",
       "      <td>-0.149315</td>\n",
       "      <td>0.294278</td>\n",
       "    </tr>\n",
       "    <tr>\n",
       "      <th>serum_sodium</th>\n",
       "      <td>-0.045966</td>\n",
       "      <td>0.041882</td>\n",
       "      <td>0.059550</td>\n",
       "      <td>-0.089551</td>\n",
       "      <td>0.175902</td>\n",
       "      <td>0.037109</td>\n",
       "      <td>0.062125</td>\n",
       "      <td>-0.189095</td>\n",
       "      <td>1.000000</td>\n",
       "      <td>-0.027566</td>\n",
       "      <td>0.004813</td>\n",
       "      <td>0.087640</td>\n",
       "      <td>-0.195204</td>\n",
       "    </tr>\n",
       "    <tr>\n",
       "      <th>sex</th>\n",
       "      <td>0.065430</td>\n",
       "      <td>-0.094769</td>\n",
       "      <td>0.079791</td>\n",
       "      <td>-0.157730</td>\n",
       "      <td>-0.148386</td>\n",
       "      <td>-0.104615</td>\n",
       "      <td>-0.125120</td>\n",
       "      <td>0.006970</td>\n",
       "      <td>-0.027566</td>\n",
       "      <td>1.000000</td>\n",
       "      <td>0.445892</td>\n",
       "      <td>-0.015608</td>\n",
       "      <td>-0.004316</td>\n",
       "    </tr>\n",
       "    <tr>\n",
       "      <th>smoking</th>\n",
       "      <td>0.018668</td>\n",
       "      <td>-0.107290</td>\n",
       "      <td>0.002421</td>\n",
       "      <td>-0.147173</td>\n",
       "      <td>-0.067315</td>\n",
       "      <td>-0.055711</td>\n",
       "      <td>0.028234</td>\n",
       "      <td>-0.027414</td>\n",
       "      <td>0.004813</td>\n",
       "      <td>0.445892</td>\n",
       "      <td>1.000000</td>\n",
       "      <td>-0.022839</td>\n",
       "      <td>-0.012623</td>\n",
       "    </tr>\n",
       "    <tr>\n",
       "      <th>time</th>\n",
       "      <td>-0.224068</td>\n",
       "      <td>-0.141414</td>\n",
       "      <td>-0.009346</td>\n",
       "      <td>0.033726</td>\n",
       "      <td>0.041729</td>\n",
       "      <td>-0.196439</td>\n",
       "      <td>0.010514</td>\n",
       "      <td>-0.149315</td>\n",
       "      <td>0.087640</td>\n",
       "      <td>-0.015608</td>\n",
       "      <td>-0.022839</td>\n",
       "      <td>1.000000</td>\n",
       "      <td>-0.526964</td>\n",
       "    </tr>\n",
       "    <tr>\n",
       "      <th>death_event</th>\n",
       "      <td>0.253729</td>\n",
       "      <td>0.066270</td>\n",
       "      <td>0.062728</td>\n",
       "      <td>-0.001943</td>\n",
       "      <td>-0.268603</td>\n",
       "      <td>0.079351</td>\n",
       "      <td>-0.049139</td>\n",
       "      <td>0.294278</td>\n",
       "      <td>-0.195204</td>\n",
       "      <td>-0.004316</td>\n",
       "      <td>-0.012623</td>\n",
       "      <td>-0.526964</td>\n",
       "      <td>1.000000</td>\n",
       "    </tr>\n",
       "  </tbody>\n",
       "</table>\n",
       "</div>"
      ],
      "text/plain": [
       "                               age   anaemia  creatinine_phosphokinase  \\\n",
       "age                       1.000000  0.088006                 -0.081584   \n",
       "anaemia                   0.088006  1.000000                 -0.190741   \n",
       "creatinine_phosphokinase -0.081584 -0.190741                  1.000000   \n",
       "diabetes                 -0.101012 -0.012729                 -0.009639   \n",
       "ejection_fraction         0.060098  0.031557                 -0.044080   \n",
       "high_blood_pressure       0.093289  0.038182                 -0.070590   \n",
       "platelets                -0.052354 -0.043786                  0.024463   \n",
       "serum_creatinine          0.159187  0.052174                 -0.016408   \n",
       "serum_sodium             -0.045966  0.041882                  0.059550   \n",
       "sex                       0.065430 -0.094769                  0.079791   \n",
       "smoking                   0.018668 -0.107290                  0.002421   \n",
       "time                     -0.224068 -0.141414                 -0.009346   \n",
       "death_event               0.253729  0.066270                  0.062728   \n",
       "\n",
       "                          diabetes  ejection_fraction  high_blood_pressure  \\\n",
       "age                      -0.101012           0.060098             0.093289   \n",
       "anaemia                  -0.012729           0.031557             0.038182   \n",
       "creatinine_phosphokinase -0.009639          -0.044080            -0.070590   \n",
       "diabetes                  1.000000          -0.004850            -0.012732   \n",
       "ejection_fraction        -0.004850           1.000000             0.024445   \n",
       "high_blood_pressure      -0.012732           0.024445             1.000000   \n",
       "platelets                 0.092193           0.072177             0.049963   \n",
       "serum_creatinine         -0.046975          -0.011302            -0.004935   \n",
       "serum_sodium             -0.089551           0.175902             0.037109   \n",
       "sex                      -0.157730          -0.148386            -0.104615   \n",
       "smoking                  -0.147173          -0.067315            -0.055711   \n",
       "time                      0.033726           0.041729            -0.196439   \n",
       "death_event              -0.001943          -0.268603             0.079351   \n",
       "\n",
       "                          platelets  serum_creatinine  serum_sodium       sex  \\\n",
       "age                       -0.052354          0.159187     -0.045966  0.065430   \n",
       "anaemia                   -0.043786          0.052174      0.041882 -0.094769   \n",
       "creatinine_phosphokinase   0.024463         -0.016408      0.059550  0.079791   \n",
       "diabetes                   0.092193         -0.046975     -0.089551 -0.157730   \n",
       "ejection_fraction          0.072177         -0.011302      0.175902 -0.148386   \n",
       "high_blood_pressure        0.049963         -0.004935      0.037109 -0.104615   \n",
       "platelets                  1.000000         -0.041198      0.062125 -0.125120   \n",
       "serum_creatinine          -0.041198          1.000000     -0.189095  0.006970   \n",
       "serum_sodium               0.062125         -0.189095      1.000000 -0.027566   \n",
       "sex                       -0.125120          0.006970     -0.027566  1.000000   \n",
       "smoking                    0.028234         -0.027414      0.004813  0.445892   \n",
       "time                       0.010514         -0.149315      0.087640 -0.015608   \n",
       "death_event               -0.049139          0.294278     -0.195204 -0.004316   \n",
       "\n",
       "                           smoking      time  death_event  \n",
       "age                       0.018668 -0.224068     0.253729  \n",
       "anaemia                  -0.107290 -0.141414     0.066270  \n",
       "creatinine_phosphokinase  0.002421 -0.009346     0.062728  \n",
       "diabetes                 -0.147173  0.033726    -0.001943  \n",
       "ejection_fraction        -0.067315  0.041729    -0.268603  \n",
       "high_blood_pressure      -0.055711 -0.196439     0.079351  \n",
       "platelets                 0.028234  0.010514    -0.049139  \n",
       "serum_creatinine         -0.027414 -0.149315     0.294278  \n",
       "serum_sodium              0.004813  0.087640    -0.195204  \n",
       "sex                       0.445892 -0.015608    -0.004316  \n",
       "smoking                   1.000000 -0.022839    -0.012623  \n",
       "time                     -0.022839  1.000000    -0.526964  \n",
       "death_event              -0.012623 -0.526964     1.000000  "
      ]
     },
     "execution_count": 7,
     "metadata": {},
     "output_type": "execute_result"
    }
   ],
   "source": [
    "# Corr\n",
    "dataset.corr()"
   ]
  },
  {
   "cell_type": "markdown",
   "id": "733503ad-6bb3-4a90-9ce9-9756abcb53cd",
   "metadata": {},
   "source": [
    "*Gözümüze direk time değişkeninin çarpmıs olması gerekir.%50 oranında negatif etkiliyor.*\n",
    "\n",
    "*Değişkenlerin etkisini bir ayrı ayrı görelim.*"
   ]
  },
  {
   "cell_type": "code",
   "execution_count": 8,
   "id": "a396f309-5ea9-4772-9843-706cd608a1a8",
   "metadata": {},
   "outputs": [
    {
     "name": "stdout",
     "output_type": "stream",
     "text": [
      "         death_event\n",
      "anaemia             \n",
      "1           0.356589\n",
      "0           0.294118\n",
      "________________________________________\n",
      "     death_event\n",
      "sex             \n",
      "0       0.323810\n",
      "1       0.319588\n",
      "________________________________________\n",
      "         death_event\n",
      "smoking             \n",
      "0           0.325123\n",
      "1           0.312500\n",
      "________________________________________\n",
      "          death_event\n",
      "diabetes             \n",
      "0            0.321839\n",
      "1            0.320000\n",
      "________________________________________\n",
      "                     death_event\n",
      "high_blood_pressure             \n",
      "1                       0.371429\n",
      "0                       0.293814\n"
     ]
    }
   ],
   "source": [
    "print(dataset[['death_event']].groupby(dataset['anaemia']).mean().sort_values(by = 'death_event' , ascending=False))\n",
    "print('_'*40)\n",
    "print(dataset[['death_event']].groupby(dataset['sex']).mean().sort_values(by = 'death_event' , ascending=False))\n",
    "print('_'*40)\n",
    "print(dataset[['death_event']].groupby(dataset['smoking']).mean().sort_values(by = 'death_event' , ascending=False))\n",
    "print('_'*40)\n",
    "print(dataset[['death_event']].groupby(dataset['diabetes']).mean().sort_values(by = 'death_event' , ascending=False))\n",
    "print('_'*40)\n",
    "print(dataset[['death_event']].groupby(dataset['high_blood_pressure']).mean().sort_values(by = 'death_event' , ascending=False))"
   ]
  },
  {
   "cell_type": "markdown",
   "id": "644f7186-169d-4b54-8070-b363e53c05ed",
   "metadata": {},
   "source": [
    "*Ölümü etkileyen bazi değişkenlerin etkisi görmek için istatistik sonuçlarına bakma işlemi gerçekleştirdik.*"
   ]
  },
  {
   "cell_type": "code",
   "execution_count": 9,
   "id": "b72c4bee-eb16-4ff9-bbb1-df15ed02c1c2",
   "metadata": {},
   "outputs": [
    {
     "data": {
      "text/plain": [
       "age                         0\n",
       "anaemia                     0\n",
       "creatinine_phosphokinase    0\n",
       "diabetes                    0\n",
       "ejection_fraction           0\n",
       "high_blood_pressure         0\n",
       "platelets                   0\n",
       "serum_creatinine            0\n",
       "serum_sodium                0\n",
       "sex                         0\n",
       "smoking                     0\n",
       "time                        0\n",
       "death_event                 0\n",
       "dtype: int64"
      ]
     },
     "execution_count": 9,
     "metadata": {},
     "output_type": "execute_result"
    }
   ],
   "source": [
    "# Eksik Veri Analizi\n",
    "dataset.isnull().sum()"
   ]
  },
  {
   "cell_type": "markdown",
   "id": "6d2240ad-26f4-42d4-961c-122300efe342",
   "metadata": {},
   "source": [
    "*Veri setimizde herhangi bir eksik veri bulunmadığı için eksik veri operasyon işlemlerini gerçekleştirmemize gerek yok.*"
   ]
  },
  {
   "cell_type": "markdown",
   "id": "d477ee22-ac57-41ec-b5fa-beab8c1138b4",
   "metadata": {},
   "source": [
    "---"
   ]
  },
  {
   "cell_type": "markdown",
   "id": "894e6ae1-bd42-482b-b685-8fbf31c24605",
   "metadata": {},
   "source": [
    "##### ***Veriyi Görselleştirme***"
   ]
  },
  {
   "cell_type": "markdown",
   "id": "392bbb87-d6ae-4156-a7b1-8dd06fa5a847",
   "metadata": {},
   "source": [
    "*Bu zamana kadar tablolar üzerinde neler döndüğünü anlamaya çalışmıştık.Bunu dahada ileriye taşımak için veriyi görselleştirme işlemi gerçekleştiriyor olacağız.*\n",
    "\n",
    "*Neyi öğrenmek istiyoruz öncelikle bunu bilmeliyiz.*\n",
    "\n",
    "* *yaş dağılımının ölüme etkisi*\n",
    "* *cinsiyet ve yaşın ölüme etkisi*\n",
    "* *sigara içenlerin cinsiyete göre dağılımı*\n",
    "* *şeker hastası ve sigara içenlerin ölüme etkisi*\n",
    "* *sigara içenlerle kanı yoğun olanlar arasındaki ilişki*\n",
    "* *zamana göre ölümün etkisi gösteren çizgisel bir grafik*\n",
    "\n",
    "*bunun gibi veri setine sorular sorup bu soruların cevaplarını bulmalıyız.*"
   ]
  },
  {
   "cell_type": "code",
   "execution_count": 10,
   "id": "65b42d1c-9b16-443d-9e31-7b9a04acbc58",
   "metadata": {},
   "outputs": [],
   "source": [
    "# Import Seaborn and Matplotlib\n",
    "import seaborn as sbn\n",
    "import matplotlib.pyplot as plt\n",
    "import warnings\n",
    "warnings.filterwarnings('ignore')"
   ]
  },
  {
   "cell_type": "markdown",
   "id": "6a4389a1-d906-436e-881e-9eaab80f6a47",
   "metadata": {},
   "source": [
    "*Yaşın ölüme etkisine bakmadan önce yaş dağılımına bir bakalım.*"
   ]
  },
  {
   "cell_type": "code",
   "execution_count": 11,
   "id": "270acd2b-c650-48af-9773-ac3248328b8d",
   "metadata": {},
   "outputs": [
    {
     "data": {
      "image/png": "[encoded data removed]",
      "text/plain": [
       "<Figure size 288x288 with 1 Axes>"
      ]
     },
     "metadata": {
      "needs_background": "light"
     },
     "output_type": "display_data"
    }
   ],
   "source": [
    "# age\n",
    "sbn.displot(dataset.age, height=4);"
   ]
  },
  {
   "cell_type": "markdown",
   "id": "3e3d03cd-a256-4c24-a31f-9d16107588af",
   "metadata": {},
   "source": [
    "*40 ile 70 yaş arasında bir toplanma mevcut.*"
   ]
  },
  {
   "cell_type": "code",
   "execution_count": 12,
   "id": "2549e850-7609-4a1e-806c-29928c1d12a3",
   "metadata": {},
   "outputs": [
    {
     "data": {
      "image/png": "[encoded data removed]",
      "text/plain": [
       "<Figure size 432x216 with 2 Axes>"
      ]
     },
     "metadata": {
      "needs_background": "light"
     },
     "output_type": "display_data"
    }
   ],
   "source": [
    "# age - death_event\n",
    "grid = sbn.FacetGrid(dataset , col = 'death_event')\n",
    "grid.map(plt.hist , 'age' , bins=20);"
   ]
  },
  {
   "cell_type": "code",
   "execution_count": 13,
   "id": "2533ab05-d655-46d1-a6c9-d1d00c5d9f89",
   "metadata": {},
   "outputs": [
    {
     "data": {
      "image/png": "[encoded data removed]",
      "text/plain": [
       "<Figure size 432x288 with 1 Axes>"
      ]
     },
     "metadata": {
      "needs_background": "light"
     },
     "output_type": "display_data"
    }
   ],
   "source": [
    "# age - death\n",
    "sbn.lineplot(x = 'age', y = 'death_event' , data = dataset);"
   ]
  },
  {
   "cell_type": "markdown",
   "id": "342b35d3-3d5d-42cc-9214-e2b9d181b810",
   "metadata": {},
   "source": [
    "*İki farklı grafik ile yaşın ölüme olan etkisi incelmiş oluğ hangi yaş aralığında daha çok ölüm gerçekleştiğini görebiliriz.*"
   ]
  },
  {
   "cell_type": "code",
   "execution_count": 14,
   "id": "324f78bf-8ee8-434d-a88f-948646683a17",
   "metadata": {},
   "outputs": [
    {
     "data": {
      "image/png": "[encoded data removed]",
      "text/plain": [
       "<Figure size 440x432 with 4 Axes>"
      ]
     },
     "metadata": {
      "needs_background": "light"
     },
     "output_type": "display_data"
    }
   ],
   "source": [
    "# age , sex --> death_event\n",
    "grid = sbn.FacetGrid(dataset , 'death_event' ,'sex')\n",
    "grid.map(plt.hist , 'age', bins = 20);\n",
    "grid.add_legend();"
   ]
  },
  {
   "cell_type": "markdown",
   "id": "db3dca4c-a797-4335-a03e-387c7d949f55",
   "metadata": {},
   "source": [
    "*sex : 1 --> kadın , sex : 0 --> erkek değerini temsil ediyor.Grafiğimize baktığımızda hayatta kalanların çoğunun kadın olduğunu görüyoruz.*"
   ]
  },
  {
   "cell_type": "code",
   "execution_count": 15,
   "id": "02606d26-3ad7-473b-90ba-b07f631f6037",
   "metadata": {},
   "outputs": [
    {
     "data": {
      "image/png": "[encoded data removed]",
      "text/plain": [
       "<Figure size 432x216 with 2 Axes>"
      ]
     },
     "metadata": {
      "needs_background": "light"
     },
     "output_type": "display_data"
    }
   ],
   "source": [
    "# smoking - sex\n",
    "grid = sbn.FacetGrid(dataset , col = 'sex')\n",
    "grid.map(plt.hist, 'smoking', bins = 20);"
   ]
  },
  {
   "cell_type": "code",
   "execution_count": 16,
   "id": "67adfbbe-d6a1-4d13-a6e9-835f50c58e02",
   "metadata": {},
   "outputs": [
    {
     "data": {
      "image/png": "[encoded data removed]",
      "text/plain": [
       "<Figure size 432x288 with 1 Axes>"
      ]
     },
     "metadata": {
      "needs_background": "light"
     },
     "output_type": "display_data"
    }
   ],
   "source": [
    "sbn.barplot(x = \"sex\", y = \"death_event\", hue = \"smoking\", data = dataset);"
   ]
  },
  {
   "cell_type": "markdown",
   "id": "fb9c988d-2e5b-4d0a-8a14-c4f76c78e809",
   "metadata": {},
   "source": [
    "*Cinsiyete bağlı olarak sigara içenlerin ölüm ile olan ilişkisini incelemiş olduk.*"
   ]
  },
  {
   "cell_type": "code",
   "execution_count": 17,
   "id": "77b64b03-4bf0-4d82-a5ae-b3631c9c5a06",
   "metadata": {},
   "outputs": [
    {
     "data": {
      "image/png": "[encoded data removed]",
      "text/plain": [
       "<Figure size 432x432 with 4 Axes>"
      ]
     },
     "metadata": {
      "needs_background": "light"
     },
     "output_type": "display_data"
    }
   ],
   "source": [
    "# diabets , smoking --> death\n",
    "grid = sbn.FacetGrid(dataset , col = 'smoking' , row='diabetes')\n",
    "grid.map(plt.hist, 'death_event', bins = 20);"
   ]
  },
  {
   "cell_type": "code",
   "execution_count": 18,
   "id": "dd9069f9-8c3a-4819-8b73-db0f007b24b4",
   "metadata": {},
   "outputs": [
    {
     "data": {
      "image/png": "[encoded data removed]",
      "text/plain": [
       "<Figure size 432x288 with 1 Axes>"
      ]
     },
     "metadata": {
      "needs_background": "light"
     },
     "output_type": "display_data"
    }
   ],
   "source": [
    "sbn.barplot(x = \"sex\", y = \"death_event\", hue = \"diabetes\", data = dataset);"
   ]
  },
  {
   "cell_type": "markdown",
   "id": "edd2a977-3bbf-4958-8deb-2c26957e2268",
   "metadata": {},
   "source": [
    "*Merak ettiklerim arasında sigar içmenin kanın yoğunlukla nasıl ilişkisi olduğu ve bunun ölüme olan etkisi nedir görmek isteyebiliriz.*"
   ]
  },
  {
   "cell_type": "code",
   "execution_count": 19,
   "id": "d934ebf4-2dfe-4021-a3fc-0c61685738f6",
   "metadata": {},
   "outputs": [
    {
     "data": {
      "image/png": "[encoded data removed]",
      "text/plain": [
       "<Figure size 432x216 with 2 Axes>"
      ]
     },
     "metadata": {
      "needs_background": "light"
     },
     "output_type": "display_data"
    }
   ],
   "source": [
    "# high_blood_pressure - smoking\n",
    "grid = sbn.FacetGrid(dataset , col = 'high_blood_pressure')\n",
    "grid.map(plt.hist , 'smoking' , bins = 20);"
   ]
  },
  {
   "cell_type": "code",
   "execution_count": 20,
   "id": "42d32157-4f3d-4fe6-9769-7404d56983e9",
   "metadata": {},
   "outputs": [
    {
     "data": {
      "image/png": "[encoded data removed]",
      "text/plain": [
       "<Figure size 432x288 with 1 Axes>"
      ]
     },
     "metadata": {
      "needs_background": "light"
     },
     "output_type": "display_data"
    }
   ],
   "source": [
    "sbn.barplot(x = \"smoking\", y = \"death_event\", hue = \"high_blood_pressure\", data = dataset);"
   ]
  },
  {
   "cell_type": "markdown",
   "id": "5d3db44b-d9be-43f9-8ec9-a4838804d18d",
   "metadata": {},
   "source": [
    "*Sigara içip aynı zamanda kanı yoğun olan kişilerin ölüm oranlarının daha yüksek olduğunu tespit ediyoruz.*\n",
    "\n",
    "*Aynı zamanda sigara içenlerin kanının daha yoğun olduğunu görebiliyoruz.*"
   ]
  },
  {
   "cell_type": "code",
   "execution_count": 21,
   "id": "7280c26c-0652-470b-b2c0-3c4788da6e3e",
   "metadata": {},
   "outputs": [
    {
     "data": {
      "image/png": "[encoded data removed]",
      "text/plain": [
       "<Figure size 360x360 with 1 Axes>"
      ]
     },
     "metadata": {
      "needs_background": "light"
     },
     "output_type": "display_data"
    }
   ],
   "source": [
    "# death_event - time\n",
    "sbn.displot(data = dataset, y = 'death_event', x=\"time\", kind=\"kde\");"
   ]
  },
  {
   "cell_type": "markdown",
   "id": "74475ac8-6ebe-43f6-ab7c-2d554f5cb0b1",
   "metadata": {},
   "source": [
    "----"
   ]
  },
  {
   "cell_type": "markdown",
   "id": "c948efaa-1717-4abc-92a0-8f4b5668f658",
   "metadata": {},
   "source": [
    "#### ***Değişken Mühendisliği***"
   ]
  },
  {
   "cell_type": "markdown",
   "id": "2e1e719f-ce7f-43b1-9010-6345c27b3ef2",
   "metadata": {},
   "source": [
    "*Veri setinde yaş değişkeninin belirli bir aralıkla sınırlandırma işlemi gerçekleştirmek isteyebiliriz.Veri setindeki yaş değişkenini incelediğimizde belirli bir aralıkta toplanıyor bu yüzden sayısal sınıflandırma dönüşüme gerçekleştirerek daha sağlıklı sonuça ulaşabilme şansımız bulunuyor.*"
   ]
  },
  {
   "cell_type": "code",
   "execution_count": 22,
   "id": "b93c530a-5f22-4ea6-a7ee-ee4014417798",
   "metadata": {},
   "outputs": [
    {
     "data": {
      "image/png": "[encoded data removed]",
      "text/plain": [
       "<Figure size 288x288 with 1 Axes>"
      ]
     },
     "metadata": {
      "needs_background": "light"
     },
     "output_type": "display_data"
    }
   ],
   "source": [
    "# age\n",
    "sbn.displot(dataset.age, height=4);"
   ]
  },
  {
   "cell_type": "markdown",
   "id": "dc6c8648-83a2-41dd-9b53-fb35d6c4c443",
   "metadata": {},
   "source": [
    "*Dönüşümler;*\n",
    "* ***39 < yaş <= 60: 1***\n",
    "* ***60 < yaş <= 70 :2***\n",
    "* ***yaş > 70 : 3***"
   ]
  },
  {
   "cell_type": "code",
   "execution_count": 23,
   "id": "efb109a8-838e-477d-b518-773de4187eb6",
   "metadata": {},
   "outputs": [
    {
     "data": {
      "text/html": [
       "<div>\n",
       "<style scoped>\n",
       "    .dataframe tbody tr th:only-of-type {\n",
       "        vertical-align: middle;\n",
       "    }\n",
       "\n",
       "    .dataframe tbody tr th {\n",
       "        vertical-align: top;\n",
       "    }\n",
       "\n",
       "    .dataframe thead th {\n",
       "        text-align: right;\n",
       "    }\n",
       "</style>\n",
       "<table border=\"1\" class=\"dataframe\">\n",
       "  <thead>\n",
       "    <tr style=\"text-align: right;\">\n",
       "      <th></th>\n",
       "      <th>age</th>\n",
       "      <th>anaemia</th>\n",
       "      <th>creatinine_phosphokinase</th>\n",
       "      <th>diabetes</th>\n",
       "      <th>ejection_fraction</th>\n",
       "      <th>high_blood_pressure</th>\n",
       "      <th>platelets</th>\n",
       "      <th>serum_creatinine</th>\n",
       "      <th>serum_sodium</th>\n",
       "      <th>sex</th>\n",
       "      <th>smoking</th>\n",
       "      <th>time</th>\n",
       "      <th>death_event</th>\n",
       "    </tr>\n",
       "  </thead>\n",
       "  <tbody>\n",
       "    <tr>\n",
       "      <th>0</th>\n",
       "      <td>3</td>\n",
       "      <td>0</td>\n",
       "      <td>582</td>\n",
       "      <td>0</td>\n",
       "      <td>20</td>\n",
       "      <td>1</td>\n",
       "      <td>265000.00</td>\n",
       "      <td>1.9</td>\n",
       "      <td>130</td>\n",
       "      <td>1</td>\n",
       "      <td>0</td>\n",
       "      <td>4</td>\n",
       "      <td>1</td>\n",
       "    </tr>\n",
       "    <tr>\n",
       "      <th>1</th>\n",
       "      <td>1</td>\n",
       "      <td>0</td>\n",
       "      <td>7861</td>\n",
       "      <td>0</td>\n",
       "      <td>38</td>\n",
       "      <td>0</td>\n",
       "      <td>263358.03</td>\n",
       "      <td>1.1</td>\n",
       "      <td>136</td>\n",
       "      <td>1</td>\n",
       "      <td>0</td>\n",
       "      <td>6</td>\n",
       "      <td>1</td>\n",
       "    </tr>\n",
       "    <tr>\n",
       "      <th>2</th>\n",
       "      <td>2</td>\n",
       "      <td>0</td>\n",
       "      <td>146</td>\n",
       "      <td>0</td>\n",
       "      <td>20</td>\n",
       "      <td>0</td>\n",
       "      <td>162000.00</td>\n",
       "      <td>1.3</td>\n",
       "      <td>129</td>\n",
       "      <td>1</td>\n",
       "      <td>1</td>\n",
       "      <td>7</td>\n",
       "      <td>1</td>\n",
       "    </tr>\n",
       "    <tr>\n",
       "      <th>3</th>\n",
       "      <td>1</td>\n",
       "      <td>1</td>\n",
       "      <td>111</td>\n",
       "      <td>0</td>\n",
       "      <td>20</td>\n",
       "      <td>0</td>\n",
       "      <td>210000.00</td>\n",
       "      <td>1.9</td>\n",
       "      <td>137</td>\n",
       "      <td>1</td>\n",
       "      <td>0</td>\n",
       "      <td>7</td>\n",
       "      <td>1</td>\n",
       "    </tr>\n",
       "    <tr>\n",
       "      <th>4</th>\n",
       "      <td>2</td>\n",
       "      <td>1</td>\n",
       "      <td>160</td>\n",
       "      <td>1</td>\n",
       "      <td>20</td>\n",
       "      <td>0</td>\n",
       "      <td>327000.00</td>\n",
       "      <td>2.7</td>\n",
       "      <td>116</td>\n",
       "      <td>0</td>\n",
       "      <td>0</td>\n",
       "      <td>8</td>\n",
       "      <td>1</td>\n",
       "    </tr>\n",
       "  </tbody>\n",
       "</table>\n",
       "</div>"
      ],
      "text/plain": [
       "   age  anaemia  creatinine_phosphokinase  diabetes  ejection_fraction  \\\n",
       "0    3        0                       582         0                 20   \n",
       "1    1        0                      7861         0                 38   \n",
       "2    2        0                       146         0                 20   \n",
       "3    1        1                       111         0                 20   \n",
       "4    2        1                       160         1                 20   \n",
       "\n",
       "   high_blood_pressure  platelets  serum_creatinine  serum_sodium  sex  \\\n",
       "0                    1  265000.00               1.9           130    1   \n",
       "1                    0  263358.03               1.1           136    1   \n",
       "2                    0  162000.00               1.3           129    1   \n",
       "3                    0  210000.00               1.9           137    1   \n",
       "4                    0  327000.00               2.7           116    0   \n",
       "\n",
       "   smoking  time  death_event  \n",
       "0        0     4            1  \n",
       "1        0     6            1  \n",
       "2        1     7            1  \n",
       "3        0     7            1  \n",
       "4        0     8            1  "
      ]
     },
     "execution_count": 23,
     "metadata": {},
     "output_type": "execute_result"
    }
   ],
   "source": [
    "# age\n",
    "\n",
    "dataset.loc[(dataset['age'] > 39) & (dataset['age'] <= 60 ), 'age'] = 1\n",
    "dataset.loc[(dataset['age'] > 60) & (dataset['age'] <= 70), 'age']   = 2\n",
    "dataset.loc[ dataset['age'] > 70, 'age'] = 3\n",
    "dataset['age'] = dataset['age'].astype(int)\n",
    "\n",
    "dataset.head()"
   ]
  },
  {
   "cell_type": "code",
   "execution_count": 24,
   "id": "349149d2-078a-4e11-aae8-9fe6ebc6b741",
   "metadata": {},
   "outputs": [
    {
     "data": {
      "image/png": "[encoded data removed]",
      "text/plain": [
       "<Figure size 288x288 with 1 Axes>"
      ]
     },
     "metadata": {
      "needs_background": "light"
     },
     "output_type": "display_data"
    }
   ],
   "source": [
    "# time\n",
    "sbn.displot(dataset.time, height=4);"
   ]
  },
  {
   "cell_type": "code",
   "execution_count": 25,
   "id": "8d7ee512-8d9b-48d3-9142-7eb2bf16674f",
   "metadata": {},
   "outputs": [],
   "source": [
    "# copy\n",
    "datasetcpy = dataset.copy()"
   ]
  },
  {
   "cell_type": "code",
   "execution_count": 26,
   "id": "f16f1b5f-f4cd-4901-9159-18667381bdb9",
   "metadata": {},
   "outputs": [
    {
     "data": {
      "text/html": [
       "<div>\n",
       "<style scoped>\n",
       "    .dataframe tbody tr th:only-of-type {\n",
       "        vertical-align: middle;\n",
       "    }\n",
       "\n",
       "    .dataframe tbody tr th {\n",
       "        vertical-align: top;\n",
       "    }\n",
       "\n",
       "    .dataframe thead th {\n",
       "        text-align: right;\n",
       "    }\n",
       "</style>\n",
       "<table border=\"1\" class=\"dataframe\">\n",
       "  <thead>\n",
       "    <tr style=\"text-align: right;\">\n",
       "      <th></th>\n",
       "      <th>age</th>\n",
       "      <th>anaemia</th>\n",
       "      <th>creatinine_phosphokinase</th>\n",
       "      <th>diabetes</th>\n",
       "      <th>ejection_fraction</th>\n",
       "      <th>high_blood_pressure</th>\n",
       "      <th>platelets</th>\n",
       "      <th>serum_creatinine</th>\n",
       "      <th>serum_sodium</th>\n",
       "      <th>sex</th>\n",
       "      <th>smoking</th>\n",
       "      <th>time</th>\n",
       "      <th>death_event</th>\n",
       "    </tr>\n",
       "  </thead>\n",
       "  <tbody>\n",
       "    <tr>\n",
       "      <th>0</th>\n",
       "      <td>3</td>\n",
       "      <td>0</td>\n",
       "      <td>582</td>\n",
       "      <td>0</td>\n",
       "      <td>20</td>\n",
       "      <td>1</td>\n",
       "      <td>265000.00</td>\n",
       "      <td>1.9</td>\n",
       "      <td>130</td>\n",
       "      <td>1</td>\n",
       "      <td>0</td>\n",
       "      <td>1</td>\n",
       "      <td>1</td>\n",
       "    </tr>\n",
       "    <tr>\n",
       "      <th>1</th>\n",
       "      <td>1</td>\n",
       "      <td>0</td>\n",
       "      <td>7861</td>\n",
       "      <td>0</td>\n",
       "      <td>38</td>\n",
       "      <td>0</td>\n",
       "      <td>263358.03</td>\n",
       "      <td>1.1</td>\n",
       "      <td>136</td>\n",
       "      <td>1</td>\n",
       "      <td>0</td>\n",
       "      <td>1</td>\n",
       "      <td>1</td>\n",
       "    </tr>\n",
       "    <tr>\n",
       "      <th>2</th>\n",
       "      <td>2</td>\n",
       "      <td>0</td>\n",
       "      <td>146</td>\n",
       "      <td>0</td>\n",
       "      <td>20</td>\n",
       "      <td>0</td>\n",
       "      <td>162000.00</td>\n",
       "      <td>1.3</td>\n",
       "      <td>129</td>\n",
       "      <td>1</td>\n",
       "      <td>1</td>\n",
       "      <td>1</td>\n",
       "      <td>1</td>\n",
       "    </tr>\n",
       "    <tr>\n",
       "      <th>3</th>\n",
       "      <td>1</td>\n",
       "      <td>1</td>\n",
       "      <td>111</td>\n",
       "      <td>0</td>\n",
       "      <td>20</td>\n",
       "      <td>0</td>\n",
       "      <td>210000.00</td>\n",
       "      <td>1.9</td>\n",
       "      <td>137</td>\n",
       "      <td>1</td>\n",
       "      <td>0</td>\n",
       "      <td>1</td>\n",
       "      <td>1</td>\n",
       "    </tr>\n",
       "    <tr>\n",
       "      <th>4</th>\n",
       "      <td>2</td>\n",
       "      <td>1</td>\n",
       "      <td>160</td>\n",
       "      <td>1</td>\n",
       "      <td>20</td>\n",
       "      <td>0</td>\n",
       "      <td>327000.00</td>\n",
       "      <td>2.7</td>\n",
       "      <td>116</td>\n",
       "      <td>0</td>\n",
       "      <td>0</td>\n",
       "      <td>1</td>\n",
       "      <td>1</td>\n",
       "    </tr>\n",
       "  </tbody>\n",
       "</table>\n",
       "</div>"
      ],
      "text/plain": [
       "   age  anaemia  creatinine_phosphokinase  diabetes  ejection_fraction  \\\n",
       "0    3        0                       582         0                 20   \n",
       "1    1        0                      7861         0                 38   \n",
       "2    2        0                       146         0                 20   \n",
       "3    1        1                       111         0                 20   \n",
       "4    2        1                       160         1                 20   \n",
       "\n",
       "   high_blood_pressure  platelets  serum_creatinine  serum_sodium  sex  \\\n",
       "0                    1  265000.00               1.9           130    1   \n",
       "1                    0  263358.03               1.1           136    1   \n",
       "2                    0  162000.00               1.3           129    1   \n",
       "3                    0  210000.00               1.9           137    1   \n",
       "4                    0  327000.00               2.7           116    0   \n",
       "\n",
       "   smoking  time  death_event  \n",
       "0        0     1            1  \n",
       "1        0     1            1  \n",
       "2        1     1            1  \n",
       "3        0     1            1  \n",
       "4        0     1            1  "
      ]
     },
     "execution_count": 26,
     "metadata": {},
     "output_type": "execute_result"
    }
   ],
   "source": [
    "# time\n",
    "datasetcpy.loc[ datasetcpy['time'] <= 0, 'time'] = 0\n",
    "datasetcpy.loc[(datasetcpy['time'] > 0) & (datasetcpy['time'] <= 40 ), 'time'] = 1\n",
    "datasetcpy.loc[(datasetcpy['time'] > 40) & (datasetcpy['time'] <= 60  ), 'time'] = 2\n",
    "datasetcpy.loc[(datasetcpy['time'] > 60 ) & (datasetcpy['time'] <= 120), 'time']   = 3\n",
    "datasetcpy.loc[(datasetcpy['time'] > 120 ) & (datasetcpy['time'] <= 180), 'time']   = 4\n",
    "datasetcpy.loc[(datasetcpy['time'] > 180 ) & (datasetcpy['time'] <= 260), 'time']   = 5\n",
    "datasetcpy.loc[ datasetcpy['time'] > 260, 'time'] = 6\n",
    "\n",
    "datasetcpy.head()"
   ]
  },
  {
   "cell_type": "code",
   "execution_count": 27,
   "id": "a5b6a428-8bd5-46ca-ad69-b81658a1ef31",
   "metadata": {},
   "outputs": [
    {
     "data": {
      "text/html": [
       "<div>\n",
       "<style scoped>\n",
       "    .dataframe tbody tr th:only-of-type {\n",
       "        vertical-align: middle;\n",
       "    }\n",
       "\n",
       "    .dataframe tbody tr th {\n",
       "        vertical-align: top;\n",
       "    }\n",
       "\n",
       "    .dataframe thead th {\n",
       "        text-align: right;\n",
       "    }\n",
       "</style>\n",
       "<table border=\"1\" class=\"dataframe\">\n",
       "  <thead>\n",
       "    <tr style=\"text-align: right;\">\n",
       "      <th></th>\n",
       "      <th>age</th>\n",
       "      <th>anaemia</th>\n",
       "      <th>creatinine_phosphokinase</th>\n",
       "      <th>diabetes</th>\n",
       "      <th>ejection_fraction</th>\n",
       "      <th>high_blood_pressure</th>\n",
       "      <th>platelets</th>\n",
       "      <th>serum_creatinine</th>\n",
       "      <th>serum_sodium</th>\n",
       "      <th>sex</th>\n",
       "      <th>smoking</th>\n",
       "      <th>time</th>\n",
       "      <th>death_event</th>\n",
       "    </tr>\n",
       "  </thead>\n",
       "  <tbody>\n",
       "    <tr>\n",
       "      <th>0</th>\n",
       "      <td>3</td>\n",
       "      <td>0</td>\n",
       "      <td>582</td>\n",
       "      <td>0</td>\n",
       "      <td>20</td>\n",
       "      <td>1</td>\n",
       "      <td>265000.00</td>\n",
       "      <td>1.9</td>\n",
       "      <td>130</td>\n",
       "      <td>1</td>\n",
       "      <td>0</td>\n",
       "      <td>4</td>\n",
       "      <td>1</td>\n",
       "    </tr>\n",
       "    <tr>\n",
       "      <th>1</th>\n",
       "      <td>1</td>\n",
       "      <td>0</td>\n",
       "      <td>7861</td>\n",
       "      <td>0</td>\n",
       "      <td>38</td>\n",
       "      <td>0</td>\n",
       "      <td>263358.03</td>\n",
       "      <td>1.1</td>\n",
       "      <td>136</td>\n",
       "      <td>1</td>\n",
       "      <td>0</td>\n",
       "      <td>6</td>\n",
       "      <td>1</td>\n",
       "    </tr>\n",
       "    <tr>\n",
       "      <th>2</th>\n",
       "      <td>2</td>\n",
       "      <td>0</td>\n",
       "      <td>146</td>\n",
       "      <td>0</td>\n",
       "      <td>20</td>\n",
       "      <td>0</td>\n",
       "      <td>162000.00</td>\n",
       "      <td>1.3</td>\n",
       "      <td>129</td>\n",
       "      <td>1</td>\n",
       "      <td>1</td>\n",
       "      <td>7</td>\n",
       "      <td>1</td>\n",
       "    </tr>\n",
       "    <tr>\n",
       "      <th>3</th>\n",
       "      <td>1</td>\n",
       "      <td>1</td>\n",
       "      <td>111</td>\n",
       "      <td>0</td>\n",
       "      <td>20</td>\n",
       "      <td>0</td>\n",
       "      <td>210000.00</td>\n",
       "      <td>1.9</td>\n",
       "      <td>137</td>\n",
       "      <td>1</td>\n",
       "      <td>0</td>\n",
       "      <td>7</td>\n",
       "      <td>1</td>\n",
       "    </tr>\n",
       "    <tr>\n",
       "      <th>4</th>\n",
       "      <td>2</td>\n",
       "      <td>1</td>\n",
       "      <td>160</td>\n",
       "      <td>1</td>\n",
       "      <td>20</td>\n",
       "      <td>0</td>\n",
       "      <td>327000.00</td>\n",
       "      <td>2.7</td>\n",
       "      <td>116</td>\n",
       "      <td>0</td>\n",
       "      <td>0</td>\n",
       "      <td>8</td>\n",
       "      <td>1</td>\n",
       "    </tr>\n",
       "  </tbody>\n",
       "</table>\n",
       "</div>"
      ],
      "text/plain": [
       "   age  anaemia  creatinine_phosphokinase  diabetes  ejection_fraction  \\\n",
       "0    3        0                       582         0                 20   \n",
       "1    1        0                      7861         0                 38   \n",
       "2    2        0                       146         0                 20   \n",
       "3    1        1                       111         0                 20   \n",
       "4    2        1                       160         1                 20   \n",
       "\n",
       "   high_blood_pressure  platelets  serum_creatinine  serum_sodium  sex  \\\n",
       "0                    1  265000.00               1.9           130    1   \n",
       "1                    0  263358.03               1.1           136    1   \n",
       "2                    0  162000.00               1.3           129    1   \n",
       "3                    0  210000.00               1.9           137    1   \n",
       "4                    0  327000.00               2.7           116    0   \n",
       "\n",
       "   smoking  time  death_event  \n",
       "0        0     4            1  \n",
       "1        0     6            1  \n",
       "2        1     7            1  \n",
       "3        0     7            1  \n",
       "4        0     8            1  "
      ]
     },
     "execution_count": 27,
     "metadata": {},
     "output_type": "execute_result"
    }
   ],
   "source": [
    "dataset.head()"
   ]
  },
  {
   "cell_type": "markdown",
   "id": "d7d74dd4-43c7-45dd-8f1e-8388268a08a9",
   "metadata": {},
   "source": [
    "*time degiskeni donusturme isleminde iki farklı veri seti olusturarak model sırasında donustulmus ve donusturulmemis veri setlerini görmek istiyoruz bu sekilde yaptıgımız donusumun saglıklı olup olmadıgına karar verecegiz.*"
   ]
  },
  {
   "cell_type": "markdown",
   "id": "580fdb6e-de3e-4aac-9303-721d0bdd7dc7",
   "metadata": {},
   "source": [
    "----"
   ]
  },
  {
   "cell_type": "markdown",
   "id": "56f57ec2-72a2-4c7d-bbb5-6cff88485d3d",
   "metadata": {},
   "source": [
    "#### ***Model ve Tahmin***"
   ]
  },
  {
   "cell_type": "markdown",
   "id": "62ef93c4-8c33-492c-b542-de30ff3e0ce8",
   "metadata": {},
   "source": [
    "*Model aşaması iki şekilde gerçeklişek bunlar;*\n",
    "* *Model*\n",
    "* *Tahmin*\n",
    "\n",
    "*Modelimiz kurduktan sonra sonra model tuning dediğimiz modelimiz için en uygun parametre bulma işlemini gerçekleştirerek final model kurulum işlemi yapacağız.*\n",
    "\n",
    "*Bu tüm işlemlerden önce veri setimizin test ve train seti olarak ayırma işlemi gerçekleştirecez.Bunun temel  gayesi veri setimizin bir kısmını eğitmek için ardından ortaya çıkan modeli ise ayırdığımız diğer kısım olan test kısmı ile tahmin edeceğiz.*"
   ]
  },
  {
   "cell_type": "code",
   "execution_count": 29,
   "id": "6ad62aee-583c-45b0-916a-604a609b7813",
   "metadata": {},
   "outputs": [],
   "source": [
    "# Bapımlı Değişken [death_event]\n",
    "y = dataset['death_event']\n",
    "# Bağımsız Değişkenler \n",
    "X = dataset.drop(columns=['death_event'],axis=1)"
   ]
  },
  {
   "cell_type": "code",
   "execution_count": 45,
   "id": "edc9612d-4a40-4ee8-a48c-e788827bebe3",
   "metadata": {},
   "outputs": [
    {
     "name": "stdout",
     "output_type": "stream",
     "text": [
      "(239, 12)\n",
      "(239,)\n",
      "(60, 12)\n",
      "(60,)\n"
     ]
    }
   ],
   "source": [
    "# Test ve Train Sets\n",
    "print(x_train.shape)\n",
    "print(y_train.shape)\n",
    "print(x_test.shape)\n",
    "print(y_test.shape)"
   ]
  },
  {
   "cell_type": "code",
   "execution_count": 41,
   "id": "c3fdfd1f-5f31-4fc4-bd18-076dd57ca8cd",
   "metadata": {},
   "outputs": [],
   "source": [
    "# datasetcopy \n",
    "copyY = datasetcpy['death_event']\n",
    "copyX = datasetcpy.drop(columns=['death_event'],axis=1)"
   ]
  },
  {
   "cell_type": "code",
   "execution_count": null,
   "id": "7552809a-f1c5-47f9-b69b-45169b9864f5",
   "metadata": {},
   "outputs": [],
   "source": [
    "# train_test_split - dataset\n",
    "from sklearn.model_selection import train_test_split\n",
    "(x_train , x_test  , y_train , y_test) = train_test_split(X , y , test_size = 0.20 , random_state=1)"
   ]
  },
  {
   "cell_type": "code",
   "execution_count": 35,
   "id": "8dc25fd5-ae45-4480-afcf-e267df3d4481",
   "metadata": {},
   "outputs": [],
   "source": [
    "# train_test_split - datasetcopy\n",
    "(x_traincpy , x_testcpy  , y_traincpy, y_testcpy) = train_test_split(copyX , copyY , test_size = 0.20 , random_state=1)"
   ]
  },
  {
   "cell_type": "markdown",
   "id": "0da12798-2704-4c2b-8fca-4d9cddbf8460",
   "metadata": {},
   "source": [
    "---"
   ]
  },
  {
   "cell_type": "code",
   "execution_count": 37,
   "id": "67ba7d29-47e9-4a46-9485-ac65173c8e3b",
   "metadata": {},
   "outputs": [],
   "source": [
    "# Predict Library\n",
    "from sklearn.metrics import accuracy_score , classification_report"
   ]
  },
  {
   "cell_type": "markdown",
   "id": "e385f604-38d4-48b6-a3c2-e2e97a2e2f5b",
   "metadata": {},
   "source": [
    "##### ***Lojistik Regresyon Modeli***"
   ]
  },
  {
   "cell_type": "code",
   "execution_count": 40,
   "id": "82186f9a-fff8-41fb-9a39-921ebdaed8bd",
   "metadata": {},
   "outputs": [
    {
     "name": "stdout",
     "output_type": "stream",
     "text": [
      "              precision    recall  f1-score   support\n",
      "\n",
      "           0       0.91      0.89      0.90        47\n",
      "           1       0.64      0.69      0.67        13\n",
      "\n",
      "    accuracy                           0.85        60\n",
      "   macro avg       0.78      0.79      0.78        60\n",
      "weighted avg       0.85      0.85      0.85        60\n",
      "\n"
     ]
    }
   ],
   "source": [
    "# dataset\n",
    "from sklearn.linear_model import LogisticRegression\n",
    "\n",
    "loj = LogisticRegression()\n",
    "loj_model = loj.fit(x_train , y_train)\n",
    "y_pred = loj_model.predict(x_test)\n",
    "print(classification_report(y_pred , y_test))"
   ]
  },
  {
   "cell_type": "code",
   "execution_count": 76,
   "id": "fa0c72ee-e87a-4a3a-89ba-b27754abb532",
   "metadata": {},
   "outputs": [
    {
     "name": "stdout",
     "output_type": "stream",
     "text": [
      "              precision    recall  f1-score   support\n",
      "\n",
      "           0       0.93      0.91      0.92        47\n",
      "           1       0.71      0.77      0.74        13\n",
      "\n",
      "    accuracy                           0.88        60\n",
      "   macro avg       0.82      0.84      0.83        60\n",
      "weighted avg       0.89      0.88      0.88        60\n",
      "\n"
     ]
    }
   ],
   "source": [
    "# datasetcopy\n",
    "from sklearn.linear_model import LogisticRegression\n",
    "\n",
    "lojcpy = LogisticRegression()\n",
    "lojcpy_model = loj.fit(x_traincpy , y_traincpy)\n",
    "y_predcpy = loj_model.predict(x_testcpy)\n",
    "print(classification_report(y_predcpy , y_test))\n",
    "accuracy_score_loj = accuracy_score(y_test , y_predcpy)"
   ]
  },
  {
   "cell_type": "markdown",
   "id": "5229e321-824b-49da-aa4c-2af15c4e0177",
   "metadata": {},
   "source": [
    "*Yaptığımız donüstürme islemi ile birlikte accuracy skor değerini 0.3 attırma sağlamış olduk.Böyle bir değişken dönüştürme işleminden emin olamadığım için veri setimi bozmadan kopyasını çıkardım ve onun üzerinden model kurulum işlemi gerçekleştirerek test etmek istedim.*"
   ]
  },
  {
   "cell_type": "markdown",
   "id": "4ac10dca-2c2a-43fd-b9cf-ae79626a908d",
   "metadata": {},
   "source": [
    "---"
   ]
  },
  {
   "cell_type": "markdown",
   "id": "4000692f-b8c2-48a8-b538-1cc80f716516",
   "metadata": {},
   "source": [
    "##### ***Random Forest Sınıflandırma Modeli***"
   ]
  },
  {
   "cell_type": "code",
   "execution_count": 77,
   "id": "f1d29630-33dd-4f46-a886-b0387f041aab",
   "metadata": {},
   "outputs": [
    {
     "name": "stdout",
     "output_type": "stream",
     "text": [
      "              precision    recall  f1-score   support\n",
      "\n",
      "           0       0.98      0.96      0.97        47\n",
      "           1       0.86      0.92      0.89        13\n",
      "\n",
      "    accuracy                           0.95        60\n",
      "   macro avg       0.92      0.94      0.93        60\n",
      "weighted avg       0.95      0.95      0.95        60\n",
      "\n"
     ]
    }
   ],
   "source": [
    "# dataset\n",
    "from sklearn.ensemble import RandomForestClassifier\n",
    "\n",
    "rf = RandomForestClassifier()\n",
    "rf_model = rf.fit(x_train ,y_train)\n",
    "y_pred_rfc = rf_model.predict(x_test)\n",
    "print(classification_report(y_pred_rfc , y_test))\n",
    "accuracy_score_rf = accuracy_score(y_test , y_pred_rfc)"
   ]
  },
  {
   "cell_type": "code",
   "execution_count": 91,
   "id": "663a4794-c993-496a-9659-3f0dab886bd7",
   "metadata": {},
   "outputs": [
    {
     "name": "stdout",
     "output_type": "stream",
     "text": [
      "              precision    recall  f1-score   support\n",
      "\n",
      "           0       0.93      0.96      0.95        45\n",
      "           1       0.86      0.80      0.83        15\n",
      "\n",
      "    accuracy                           0.92        60\n",
      "   macro avg       0.90      0.88      0.89        60\n",
      "weighted avg       0.92      0.92      0.92        60\n",
      "\n"
     ]
    }
   ],
   "source": [
    "# datasetcopy\n",
    "from sklearn.ensemble import RandomForestClassifier\n",
    "\n",
    "rf = RandomForestClassifier()\n",
    "rf_model = rf.fit(x_traincpy ,y_traincpy)\n",
    "y_pred_rfcCpy = rf_model.predict(x_testcpy)\n",
    "print(classification_report(y_pred_rfcCpy , y_testcpy))"
   ]
  },
  {
   "cell_type": "markdown",
   "id": "d4487387-12b2-4ef5-9b05-fcf016615ad5",
   "metadata": {},
   "source": [
    "*Random forest modeli icin* ***time*** *değişkeni üzerinde yaptığımız dönüsüm olum sonuç vermedi.Değişken mühendisliği uygulandığında bazı modeller çok daha uygun sonucçlar verebilirler.*"
   ]
  },
  {
   "cell_type": "markdown",
   "id": "f9019628-d374-4d37-b520-6d7b2b1a60ad",
   "metadata": {},
   "source": [
    "---"
   ]
  },
  {
   "cell_type": "markdown",
   "id": "9314f309-0bec-42da-b06e-0796291b1d28",
   "metadata": {},
   "source": [
    "##### ***CART Modeli ( Kara Ağacı Sınıflandırma Modeli)***"
   ]
  },
  {
   "cell_type": "code",
   "execution_count": 55,
   "id": "7c2c2a3d-1758-4ca9-b873-cb6dc5a9a6e9",
   "metadata": {},
   "outputs": [
    {
     "name": "stdout",
     "output_type": "stream",
     "text": [
      "              precision    recall  f1-score   support\n",
      "\n",
      "           0       0.78      0.92      0.85        39\n",
      "           1       0.79      0.52      0.63        21\n",
      "\n",
      "    accuracy                           0.78        60\n",
      "   macro avg       0.78      0.72      0.74        60\n",
      "weighted avg       0.78      0.78      0.77        60\n",
      "\n"
     ]
    }
   ],
   "source": [
    "from sklearn.tree import DecisionTreeClassifier\n",
    "\n",
    "dt = DecisionTreeClassifier()\n",
    "dt_model = dt.fit(x_train , y_train)\n",
    "y_pred_cart = dt_model.predict(x_test)\n",
    "print(classification_report(y_pred_cart , y_test))"
   ]
  },
  {
   "cell_type": "code",
   "execution_count": 92,
   "id": "6ef6aac9-0c3b-4b82-9bf0-c155a0daba10",
   "metadata": {},
   "outputs": [
    {
     "name": "stdout",
     "output_type": "stream",
     "text": [
      "              precision    recall  f1-score   support\n",
      "\n",
      "           0       0.85      0.89      0.87        44\n",
      "           1       0.64      0.56      0.60        16\n",
      "\n",
      "    accuracy                           0.80        60\n",
      "   macro avg       0.75      0.72      0.73        60\n",
      "weighted avg       0.79      0.80      0.80        60\n",
      "\n"
     ]
    }
   ],
   "source": [
    "from sklearn.tree import DecisionTreeClassifier\n",
    "\n",
    "dt = DecisionTreeClassifier()\n",
    "dt_model = dt.fit(x_traincpy , y_traincpy)\n",
    "y_pred_cart_cpy = dt_model.predict(x_testcpy)\n",
    "print(classification_report(y_pred_cart_cpy , y_testcpy))\n",
    "accuracy_score_cart = accuracy_score(y_test , y_pred_cart_cpy)"
   ]
  },
  {
   "cell_type": "markdown",
   "id": "b00484fd-c9cb-44b9-b32f-cbc4bcada4a7",
   "metadata": {},
   "source": [
    "----"
   ]
  },
  {
   "cell_type": "markdown",
   "id": "f231071d-66c5-4fec-9220-3a1de2905723",
   "metadata": {},
   "source": [
    "##### ***KNeighborsClassifier (KNN En Yakın Komşu Algoritması)***"
   ]
  },
  {
   "cell_type": "code",
   "execution_count": 62,
   "id": "161b796b-6d0c-4dd3-8cbc-5aef1adbf463",
   "metadata": {},
   "outputs": [
    {
     "name": "stdout",
     "output_type": "stream",
     "text": [
      "              precision    recall  f1-score   support\n",
      "\n",
      "           0       0.80      0.74      0.77        50\n",
      "           1       0.07      0.10      0.08        10\n",
      "\n",
      "    accuracy                           0.63        60\n",
      "   macro avg       0.44      0.42      0.43        60\n",
      "weighted avg       0.68      0.63      0.66        60\n",
      "\n"
     ]
    }
   ],
   "source": [
    "# dataset\n",
    "from sklearn.neighbors import KNeighborsClassifier\n",
    "\n",
    "knn = KNeighborsClassifier()\n",
    "knn_model = knn.fit(x_train ,y_train)\n",
    "y_pred_knn = knn_model.predict(x_test)\n",
    "print(classification_report(y_pred_knn , y_test))"
   ]
  },
  {
   "cell_type": "code",
   "execution_count": 93,
   "id": "220b578c-8a25-4456-a9d8-602f990ba5a6",
   "metadata": {},
   "outputs": [
    {
     "name": "stdout",
     "output_type": "stream",
     "text": [
      "              precision    recall  f1-score   support\n",
      "\n",
      "           0       0.80      0.74      0.77        50\n",
      "           1       0.07      0.10      0.08        10\n",
      "\n",
      "    accuracy                           0.63        60\n",
      "   macro avg       0.44      0.42      0.43        60\n",
      "weighted avg       0.68      0.63      0.66        60\n",
      "\n"
     ]
    }
   ],
   "source": [
    "# datasetcopy\n",
    "from sklearn.neighbors import KNeighborsClassifier\n",
    "\n",
    "knn = KNeighborsClassifier()\n",
    "knn_model = knn.fit(x_traincpy ,y_traincpy)\n",
    "y_pred_knn_copy = knn_model.predict(x_testcpy)\n",
    "print(classification_report(y_pred_knn_copy , y_testcpy))\n",
    "accuracy_score_knn = accuracy_score(y_test , y_pred_knn_copy)"
   ]
  },
  {
   "cell_type": "markdown",
   "id": "a99b3f78-f2d6-4c4d-88df-4748ba916c7a",
   "metadata": {},
   "source": [
    "*time değişkenine uyguladığımız dönüşüm sonucuna rağmen KNN modelinin etkelenmediğini görüyoruz.*\n",
    "\n",
    "*neden time üzerinde uyguladığım dönüsüme bu kadar dikkat ediyorum çünkü veri setinde istatiksel değerlere baktığımda time değişkeninin çok önemli olduğunu görüyorum.*"
   ]
  },
  {
   "cell_type": "markdown",
   "id": "e57b9dc7-67fd-4c4d-b74d-46581b558d9a",
   "metadata": {},
   "source": [
    "---"
   ]
  },
  {
   "cell_type": "markdown",
   "id": "a4c16575-cf22-41c5-977c-2d862f13f36f",
   "metadata": {},
   "source": [
    "##### ***SVM ( Destek Vektör Makineleri )***"
   ]
  },
  {
   "cell_type": "code",
   "execution_count": 68,
   "id": "11f83bb8-8253-4006-b1a5-17d65808c5dd",
   "metadata": {},
   "outputs": [
    {
     "name": "stdout",
     "output_type": "stream",
     "text": [
      "              precision    recall  f1-score   support\n",
      "\n",
      "           0       1.00      0.77      0.87        60\n",
      "           1       0.00      0.00      0.00         0\n",
      "\n",
      "    accuracy                           0.77        60\n",
      "   macro avg       0.50      0.38      0.43        60\n",
      "weighted avg       1.00      0.77      0.87        60\n",
      "\n"
     ]
    }
   ],
   "source": [
    "# dataset\n",
    "from sklearn.svm import SVC\n",
    "\n",
    "svm = SVC(kernel = \"rbf\")\n",
    "svm_model = svm.fit(x_train,y_train)\n",
    "y_pred_svm = svm_model.predict(x_test)\n",
    "print(classification_report(y_pred_svm , y_test))"
   ]
  },
  {
   "cell_type": "code",
   "execution_count": 75,
   "id": "13e56345-84bc-4bfe-abfc-19bdcd4849bb",
   "metadata": {},
   "outputs": [
    {
     "name": "stdout",
     "output_type": "stream",
     "text": [
      "              precision    recall  f1-score   support\n",
      "\n",
      "           0       1.00      0.77      0.87        60\n",
      "           1       0.00      0.00      0.00         0\n",
      "\n",
      "    accuracy                           0.77        60\n",
      "   macro avg       0.50      0.38      0.43        60\n",
      "weighted avg       1.00      0.77      0.87        60\n",
      "\n"
     ]
    }
   ],
   "source": [
    "# datasetcopy\n",
    "from sklearn.svm import SVC\n",
    "\n",
    "svm = SVC(kernel = \"rbf\")\n",
    "svm_model = svm.fit(x_traincpy,y_traincpy)\n",
    "y_pred_svm_cpy = svm_model.predict(x_testcpy)\n",
    "print(classification_report(y_pred_svm_cpy , y_testcpy))\n",
    "accuracy_score_svm = accuracy_score(y_test , y_pred_svm_cpy)"
   ]
  },
  {
   "cell_type": "markdown",
   "id": "de3e9f68-ddfd-4409-9889-e9fa0a199132",
   "metadata": {},
   "source": [
    "----"
   ]
  },
  {
   "cell_type": "markdown",
   "id": "b4780a3d-ee6c-4aa9-bd80-4fcffb524488",
   "metadata": {},
   "source": [
    "##### ***Model Sonucları***"
   ]
  },
  {
   "cell_type": "code",
   "execution_count": 96,
   "id": "e914cf83-b8ac-402e-8150-5bef45c11bcf",
   "metadata": {},
   "outputs": [
    {
     "data": {
      "text/html": [
       "<div>\n",
       "<style scoped>\n",
       "    .dataframe tbody tr th:only-of-type {\n",
       "        vertical-align: middle;\n",
       "    }\n",
       "\n",
       "    .dataframe tbody tr th {\n",
       "        vertical-align: top;\n",
       "    }\n",
       "\n",
       "    .dataframe thead th {\n",
       "        text-align: right;\n",
       "    }\n",
       "</style>\n",
       "<table border=\"1\" class=\"dataframe\">\n",
       "  <thead>\n",
       "    <tr style=\"text-align: right;\">\n",
       "      <th></th>\n",
       "      <th>models</th>\n",
       "      <th>accuracy_score</th>\n",
       "    </tr>\n",
       "  </thead>\n",
       "  <tbody>\n",
       "    <tr>\n",
       "      <th>1</th>\n",
       "      <td>Random Forest</td>\n",
       "      <td>0.950000</td>\n",
       "    </tr>\n",
       "    <tr>\n",
       "      <th>0</th>\n",
       "      <td>Lojistik Regresyon</td>\n",
       "      <td>0.883333</td>\n",
       "    </tr>\n",
       "    <tr>\n",
       "      <th>2</th>\n",
       "      <td>CART</td>\n",
       "      <td>0.800000</td>\n",
       "    </tr>\n",
       "    <tr>\n",
       "      <th>4</th>\n",
       "      <td>SVM</td>\n",
       "      <td>0.766667</td>\n",
       "    </tr>\n",
       "    <tr>\n",
       "      <th>3</th>\n",
       "      <td>KNeighbors</td>\n",
       "      <td>0.633333</td>\n",
       "    </tr>\n",
       "  </tbody>\n",
       "</table>\n",
       "</div>"
      ],
      "text/plain": [
       "               models  accuracy_score\n",
       "1       Random Forest        0.950000\n",
       "0  Lojistik Regresyon        0.883333\n",
       "2                CART        0.800000\n",
       "4                SVM         0.766667\n",
       "3          KNeighbors        0.633333"
      ]
     },
     "execution_count": 96,
     "metadata": {},
     "output_type": "execute_result"
    }
   ],
   "source": [
    "models = pd.DataFrame({'models':['Lojistik Regresyon' , 'Random Forest','CART',\n",
    "                                 'KNeighbors', 'SVM '],\n",
    "                     'accuracy_score':[accuracy_score_loj , accuracy_score_rf,accuracy_score_cart,accuracy_score_knn,accuracy_score_svm]})\n",
    "models.sort_values(by='accuracy_score', ascending=False )"
   ]
  },
  {
   "cell_type": "markdown",
   "id": "a1001086-9908-4d50-893c-8a232691b564",
   "metadata": {},
   "source": [
    "*Kurduğumuz bazi modellerin sonucunda random forest modeli %95 oranında başarı getirir.*"
   ]
  }
 ],
 "metadata": {
  "kernelspec": {
   "display_name": "Python 3 (ipykernel)",
   "language": "python",
   "name": "python3"
  },
  "language_info": {
   "codemirror_mode": {
    "name": "ipython",
    "version": 3
   },
   "file_extension": ".py",
   "mimetype": "text/x-python",
   "name": "python",
   "nbconvert_exporter": "python",
   "pygments_lexer": "ipython3",
   "version": "3.8.8"
  }
 },
 "nbformat": 4,
 "nbformat_minor": 5
}
